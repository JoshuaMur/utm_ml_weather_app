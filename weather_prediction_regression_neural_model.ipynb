{
  "cells": [
    {
      "cell_type": "markdown",
      "metadata": {
        "id": "view-in-github",
        "colab_type": "text"
      },
      "source": [
        "<a href=\"https://colab.research.google.com/github/JoshuaMur/utm_ml_weather_app/blob/main/weather_prediction_regression_neural_model.ipynb\" target=\"_parent\"><img src=\"https://colab.research.google.com/assets/colab-badge.svg\" alt=\"Open In Colab\"/></a>"
      ]
    },
    {
      "metadata": {
        "_uuid": "2fbff8a456f78421e8875e08e5f022184fd95424",
        "id": "-kFDyOkMahGW"
      },
      "cell_type": "markdown",
      "source": [
        "> In order to build our forecasting model, we will have to opt for using CRISP-DM methodology."
      ]
    },
    {
      "metadata": {
        "_uuid": "16c9744a1d5997d407c5ff182fa1607997b59d6e",
        "id": "1KVAES1OahGX"
      },
      "cell_type": "markdown",
      "source": [
        "**1. Business understanding**"
      ]
    },
    {
      "metadata": {
        "_uuid": "89d2739687e6151953bb4e88a3a3bd6021ba9ae2",
        "id": "OhwxIVOtahGX"
      },
      "cell_type": "markdown",
      "source": [
        "This first step is essentially about understanding the business, the need for the specific project and the resources that we have. "
      ]
    },
    {
      "metadata": {
        "_uuid": "dea8b62ffb699648adb7c68394c5e54534444ed3",
        "id": "eESxVnPxahGX"
      },
      "cell_type": "markdown",
      "source": [
        "1.1 **Gather background information**\n",
        "\n",
        " *Compiling the business background *\n",
        "\n",
        "this project is about historical weather around Szeged, Hungary , from 2006 to 2016\n",
        "\n",
        "**Defining business objectives**\n",
        "\n",
        "Make data more accessible and understandable for everyone.\n",
        "\n",
        "Provide fast analytics for the different Factors Affecting Weather .\n",
        "\n",
        "use different prediction and classification algorithms\n",
        "\n",
        "calculating and comparing evaluation measures\n",
        "\n"
      ]
    },
    {
      "metadata": {
        "_uuid": "076ca1160d13477a63950a132730cbd94410b918",
        "id": "KVbt_O99ahGX"
      },
      "cell_type": "markdown",
      "source": [
        "**1.2 Assessing the situation**\n",
        "\n",
        "** Resource Inventory **\n",
        "\n",
        "Data : dataset contains in a practical format 10 years (2006-2016) of hourly data in just a single file.\n",
        "\n",
        "Computing resources : hp , i3 processor, 4 GB RAM\n",
        "\n",
        "Programming languages and libraries : python ( Numpy, pandas, matplotlib, seaborn, tensorflow, scikitlearn)"
      ]
    },
    {
      "metadata": {
        "_uuid": "7899795183bc32ed1c71e53623bfd70f90b32c06",
        "id": "UuU-wqDzahGY"
      },
      "cell_type": "markdown",
      "source": [
        "**1.3 Objective of the project**\n",
        "\n",
        " the objective of this project is to analyze the weather data and extract the hypotheses to arrive at a prediction"
      ]
    },
    {
      "metadata": {
        "_uuid": "875855d88e7236c31146ef9da08c7fc53d35a02e",
        "id": "Md59fCJrahGY"
      },
      "cell_type": "markdown",
      "source": [
        "**2.Collect initial data**\n",
        "\n",
        "Dataset from Kaggle : https://www.kaggle.com/budincsevity/szeged-weather"
      ]
    },
    {
      "metadata": {
        "_uuid": "1cf619c13d7c27fdb4254a3b06c2cf8e37fbc808",
        "id": "hY0E1JYaahGY"
      },
      "cell_type": "markdown",
      "source": [
        "**2.1 Data Exploration**\n",
        "\n",
        "Exploration is to understand how all these columns are related and the value structures so the correlation between these data"
      ]
    },
    {
      "metadata": {
        "_uuid": "0c2c7ecf0041363b962777130b709205c14447e5",
        "id": "6RkiyZMYahGY"
      },
      "cell_type": "markdown",
      "source": [
        "**importing libraries **"
      ]
    },
    {
      "metadata": {
        "_cell_guid": "79c7e3d0-c299-4dcb-8224-4455121ee9b0",
        "_uuid": "d629ff2d2480ee46fbb7e2d37f6b5fab8052498a",
        "trusted": true,
        "_kg_hide-input": false,
        "id": "HykHB2EUahGY"
      },
      "cell_type": "code",
      "source": [
        "#Data manipulation libraries : \n",
        "import numpy as np  #numpy\n",
        "import pandas as pd  #pandas\n",
        "import tensorflow as tf\n",
        "#System libraries\n",
        "import glob #The glob module finds all the pathnames matching a specified pattern according to the rules used by the Unix shell\n",
        "\n",
        "#Map plotting \n",
        "import folium #Interactive Maps viz\n",
        "\n",
        "\n",
        "\n",
        "#Plotting\n",
        "import seaborn as sns\n",
        "import matplotlib.pyplot as plt\n",
        "import matplotlib.dates as mdates\n",
        "\n",
        "#math operations lib \n",
        "import math\n",
        "from math import pi\n",
        "\n",
        "#date manipulation \n",
        "import datetime as dt\n",
        "\n",
        "#Missing data detector lib\n",
        "import missingno as mn\n",
        "\n",
        "#Impute missing data\n",
        "from sklearn.preprocessing import Imputer \n",
        "\n",
        "#Deep learning with keras\n",
        "from keras import backend as K\n",
        "import keras\n",
        "from keras.models import Sequential\n",
        "from keras.layers import Dense, Dropout\n",
        "\n",
        "#Splitting data to test and train \n",
        "from sklearn.model_selection import train_test_split\n",
        "\n",
        "import datetime\n",
        "from sklearn.model_selection import train_test_split\n",
        "from sklearn.metrics import accuracy_score\n",
        "from sklearn.tree import DecisionTreeClassifier\n",
        "from sklearn.linear_model import LogisticRegression\n",
        "from tensorflow import keras\n",
        "%matplotlib inline\n",
        "plt.style.use('seaborn-whitegrid')\n",
        "\n",
        "from mpl_toolkits.mplot3d import Axes3D\n",
        "from sklearn.preprocessing import StandardScaler\n",
        "from collections import Counter\n",
        "import time\n",
        "import datetime as dt\n",
        "from datetime import datetime\n",
        "import collections\n",
        "import os # accessing directory structure\n",
        "import pandas as pd # data processing, CSV file I/O (e.g. pd.read_csv)\n",
        "import seaborn as sns\n",
        "from matplotlib.pyplot import rcParams\n",
        "\n",
        "from sklearn import linear_model"
      ],
      "execution_count": null,
      "outputs": []
    },
    {
      "metadata": {
        "_uuid": "8ffc66bbf92860536603ae8ed9dc7e03fd60aabc",
        "id": "hggIPE1SahGY"
      },
      "cell_type": "markdown",
      "source": [
        "**Check out the data**"
      ]
    },
    {
      "metadata": {
        "trusted": true,
        "_uuid": "270d9ac1bd2a9fabe9a4ea82fab25e055db21711",
        "_kg_hide-output": true,
        "id": "cNwjoXMuahGY"
      },
      "cell_type": "code",
      "source": [
        "data = pd.read_csv('../input/weatherHistory.csv')\n",
        "data.head() "
      ],
      "execution_count": null,
      "outputs": []
    },
    {
      "metadata": {
        "trusted": true,
        "_uuid": "793b7b0167ad6b4895a6878567ac9744bb0d85a2",
        "id": "2HsQCzsiahGY"
      },
      "cell_type": "code",
      "source": [
        "# check datatypes\n",
        "data.dtypes"
      ],
      "execution_count": null,
      "outputs": []
    },
    {
      "metadata": {
        "trusted": true,
        "_uuid": "a4ea4ab94e1ab28ab9a855a7944cd432db271f07",
        "id": "ggHT3PBPahGZ"
      },
      "cell_type": "code",
      "source": [
        "#Categorical variables:\n",
        "categorical = data.select_dtypes(include = [\"object\"]).keys()\n",
        "print(categorical)"
      ],
      "execution_count": null,
      "outputs": []
    },
    {
      "metadata": {
        "trusted": true,
        "_uuid": "ba7e433235213296f746518101b4cb6d37964f57",
        "id": "K9TwB2yPahGZ"
      },
      "cell_type": "code",
      "source": [
        "#Quantitative variables:\n",
        "quantitative = data.select_dtypes(include = [\"int64\",\"float64\"]).keys()\n",
        "print(quantitative)"
      ],
      "execution_count": null,
      "outputs": []
    },
    {
      "metadata": {
        "trusted": true,
        "_uuid": "be3b6d1958ed61b3fc35b2d776edcdff0ba4df0d",
        "id": "i7sAFugHahGZ"
      },
      "cell_type": "code",
      "source": [
        "#'Formatted Date' transformation:\n",
        "\n",
        "data['Date'] = pd.to_datetime(data['Formatted Date'])\n",
        "data['year'] = data['Date'].dt.year\n",
        "data['month'] = data['Date'].dt.month\n",
        "data['day'] = data['Date'].dt.day\n",
        "data['hour'] = data['Date'].dt.hour\n",
        "data.head()"
      ],
      "execution_count": null,
      "outputs": []
    },
    {
      "metadata": {
        "trusted": true,
        "_uuid": "8c4fe884899935cfb9fdb81e519558cb06b22149",
        "id": "vAtin9CTahGZ"
      },
      "cell_type": "code",
      "source": [
        "f,ax = plt.subplots(figsize=(18, 18))\n",
        "sns.heatmap(data.corr(), annot=True, linewidths=.5, fmt= '.1f',ax=ax)\n",
        "plt.show()"
      ],
      "execution_count": null,
      "outputs": []
    },
    {
      "metadata": {
        "_uuid": "7e99c37ebcd426ec288e0eb2d8e4890e459037cc",
        "id": "nNvBx4XfahGZ"
      },
      "cell_type": "markdown",
      "source": [
        "**Quantitative variables. Missing values**"
      ]
    },
    {
      "metadata": {
        "trusted": true,
        "_uuid": "11fda34d25f2fcc14e3bb1d0a74e655543c424cc",
        "id": "1ZWxErIKahGZ"
      },
      "cell_type": "code",
      "source": [
        "data[quantitative].describe()"
      ],
      "execution_count": null,
      "outputs": []
    },
    {
      "metadata": {
        "trusted": true,
        "_uuid": "6970720004f6a0886965c1c54d461db72ea20e8e",
        "id": "cb67hPnBahGZ"
      },
      "cell_type": "code",
      "source": [
        "rcParams['figure.figsize'] = 9, 9\n",
        "data[quantitative].hist()"
      ],
      "execution_count": null,
      "outputs": []
    },
    {
      "metadata": {
        "_uuid": "17ca0c4ba4a18c59cb123fb8ea73a3048a6cb1c7",
        "id": "RWIFxLNlahGZ"
      },
      "cell_type": "markdown",
      "source": [
        "'Loud Cover' takes values zero. We drop it"
      ]
    },
    {
      "metadata": {
        "trusted": true,
        "_uuid": "69a9f1ee38df46f348398583b7964d8e7e0011da",
        "id": "cbldqX4xahGZ"
      },
      "cell_type": "code",
      "source": [
        "data=data.drop('Loud Cover',axis=1)"
      ],
      "execution_count": null,
      "outputs": []
    },
    {
      "metadata": {
        "_uuid": "5adc66e6ffacd197c9968aebfb5b9e6e8ad9a67e",
        "id": "NkUtVJgIahGZ"
      },
      "cell_type": "markdown",
      "source": [
        "\"Pressure (millibars)\".\n",
        "\n",
        "Some observations are nil. It seems that they lack values. because the pressure does not take zero as value \n",
        "\n",
        "Let's fill the zeros with the median:"
      ]
    },
    {
      "metadata": {
        "trusted": true,
        "_uuid": "e7277775050570d67a690a358f3ad001e6d39287",
        "id": "K8UXADPXahGZ"
      },
      "cell_type": "code",
      "source": [
        "pressure_median = data['Pressure (millibars)'].median()\n",
        "      \n",
        "def pressure(x):\n",
        "    if x==0:\n",
        "        return x + pressure_median\n",
        "    else:\n",
        "        return x\n",
        "        \n",
        "data[\"Pressure (millibars)\"] = data.apply(lambda row:pressure(row[\"Pressure (millibars)\"]) , axis = 1)\n",
        "\n",
        "rcParams['figure.figsize'] = 5, 3\n",
        "data['Pressure (millibars)'].hist()\n"
      ],
      "execution_count": null,
      "outputs": []
    },
    {
      "metadata": {
        "_uuid": "a2f2135a2741f42459e886118d06f273a9a6e3a7",
        "id": "Wc3w3uncahGZ"
      },
      "cell_type": "markdown",
      "source": [
        "** Categorical variables**"
      ]
    },
    {
      "metadata": {
        "trusted": true,
        "_uuid": "83c9bf1fb751476ef6e9b6c41ff8cff07e2aa502",
        "id": "CW0QxD7GahGZ"
      },
      "cell_type": "code",
      "source": [
        "rcParams['figure.figsize'] = 8, 5\n",
        "sns.countplot(y=data['Summary'])"
      ],
      "execution_count": null,
      "outputs": []
    },
    {
      "metadata": {
        "trusted": true,
        "_uuid": "5c5bdbdd90413693842b7040d22ed1b551cb235a",
        "id": "AoOal-53ahGZ"
      },
      "cell_type": "code",
      "source": [
        "data['Daily Summary'].value_counts(dropna=False)"
      ],
      "execution_count": null,
      "outputs": []
    },
    {
      "metadata": {
        "trusted": true,
        "scrolled": true,
        "_uuid": "789ad2f4384ba317fcce7b0824988425aa589e40",
        "id": "1-lBFdeBahGZ"
      },
      "cell_type": "code",
      "source": [
        "data['Summary'].value_counts(dropna=False)"
      ],
      "execution_count": null,
      "outputs": []
    },
    {
      "metadata": {
        "trusted": true,
        "_uuid": "6b198ffa7f17bf33b5b1e8512a033a7062e73717",
        "id": "SUQj0V1DahGZ"
      },
      "cell_type": "code",
      "source": [
        "data['Precip Type'].value_counts(dropna=False)"
      ],
      "execution_count": null,
      "outputs": []
    },
    {
      "metadata": {
        "trusted": true,
        "_uuid": "7878bb96e0619932b012a3378cf7a8e2469465ed",
        "id": "8m0zl_fhahGZ"
      },
      "cell_type": "code",
      "source": [
        "data.fillna(method='ffill', inplace=True)"
      ],
      "execution_count": null,
      "outputs": []
    },
    {
      "metadata": {
        "trusted": true,
        "_uuid": "1dbe88b3edf452f7ff5d0b69f5a3f478f5dc493e",
        "id": "jGg70uGZahGZ"
      },
      "cell_type": "code",
      "source": [
        "sns.countplot(x=data['Precip Type'])"
      ],
      "execution_count": null,
      "outputs": []
    },
    {
      "metadata": {
        "trusted": true,
        "_uuid": "9993ab6fb27ccee9e4e5c6416c30b6100d209582",
        "id": "J5c9lw-8ahGZ"
      },
      "cell_type": "code",
      "source": [
        "\n",
        "# Calculate total number of cells in dataframe\n",
        "totalCells = np.product(data.shape)\n",
        "\n",
        "# Count number of missing values per column\n",
        "missingCount = data.isnull().sum()\n",
        "\n",
        "# Calculate total number of missing values\n",
        "totalMissing = missingCount.sum()\n",
        "\n",
        "# Calculate percentage of missing values\n",
        "print(\"The weather history dataset contains\", round(((totalMissing/totalCells) * 100), 2), \"%\", \"missing values.\")"
      ],
      "execution_count": null,
      "outputs": []
    },
    {
      "metadata": {
        "trusted": true,
        "_uuid": "d4e4a3c8e59a25703e1bc8060ad2e07a79dda55d",
        "id": "Pln2Nuc7ahGZ"
      },
      "cell_type": "code",
      "source": [
        "plt.figure(figsize=(18,8)) # this creates a figure 8 inch wide, 4 inch high\n",
        "sns.pairplot(data[['Apparent Temperature (C)','Temperature (C)', 'Humidity' ]])\n",
        "plt.show()"
      ],
      "execution_count": null,
      "outputs": []
    },
    {
      "metadata": {
        "trusted": true,
        "_uuid": "f25adab72e13bdc0f13fadacdb67227964139d55",
        "id": "1i_5kcJoahGZ"
      },
      "cell_type": "code",
      "source": [
        "plt.figure(figsize=(18,8)) # this creates a figure 8 inch wide, 4 inch high\n",
        "sns.pairplot(data[['Wind Speed (km/h)', 'Wind Bearing (degrees)', 'Visibility (km)', 'Pressure (millibars)']])\n",
        "plt.show()"
      ],
      "execution_count": null,
      "outputs": []
    },
    {
      "metadata": {
        "trusted": true,
        "_uuid": "4b92b84431369d1b99ce9fcd78644cf5c9646f0d",
        "id": "4Brve4CtahGa"
      },
      "cell_type": "code",
      "source": [
        "sns.violinplot(x=\"Precip Type\", y=\"Temperature (C)\", data=data, palette=\"YlGnBu\");"
      ],
      "execution_count": null,
      "outputs": []
    },
    {
      "metadata": {
        "trusted": true,
        "_uuid": "bde1354648e61ba83194ed91afdeae2c26e09aa3",
        "id": "vv3qIv3DahGa"
      },
      "cell_type": "code",
      "source": [
        "sns.violinplot(x=\"Precip Type\", y=\"Humidity\", data=data, palette=\"YlGnBu\");"
      ],
      "execution_count": null,
      "outputs": []
    },
    {
      "metadata": {
        "_uuid": "5ea848bdd91eccc59099bef0a1e8a509841a16f4",
        "id": "vesw8nvxahGa"
      },
      "cell_type": "markdown",
      "source": [
        "With these plots we can choose two variables to study the relationship betweem them.\n",
        "\n",
        "In this study let's focus to explore Temperature as a function of Humidity : how humidity influences in temperature?."
      ]
    },
    {
      "metadata": {
        "_uuid": "f63a253b25983311a577ccaa2a73a75b72e088ab",
        "id": "0NAGHOnLahGa"
      },
      "cell_type": "markdown",
      "source": [
        "***Linear Regression***"
      ]
    },
    {
      "metadata": {
        "trusted": true,
        "_uuid": "dcf49a6770385784aac0f0b37613e4745d9cb61a",
        "id": "4TSIAre8ahGa"
      },
      "cell_type": "code",
      "source": [
        "from sklearn import linear_model\n",
        "from sklearn.model_selection import train_test_split\n",
        "from sklearn.metrics import mean_squared_error, r2_score\n",
        "\n",
        "ls = linear_model.LinearRegression()\n",
        "\n",
        "\n",
        "\n",
        "X = data[\"Humidity\"].values.reshape(-1,1)\n",
        "y = data[\"Temperature (C)\"].values.reshape(-1,1)\n",
        "\n",
        "X_train, X_test, y_train, y_test = train_test_split(X, \n",
        "                                                    y, \n",
        "                                                    test_size=0.33, \n",
        "                                                    shuffle=True, random_state=0)\n",
        "print(\"Linear Regression\")\n",
        "ls.fit(X_train, y_train)\n",
        "print(\"alpha = \",ls.coef_[0])\n",
        "print(\"beta = \",ls.intercept_)\n",
        "print(\"\\n\\nCalculating some regression quality metrics\")\n",
        "y_pred = ls.predict(X_test)\n",
        "print(\"MSE = \",mean_squared_error(y_test, y_pred))\n",
        "print(\"R2 = \",r2_score(y_test, y_pred))"
      ],
      "execution_count": null,
      "outputs": []
    },
    {
      "metadata": {
        "_uuid": "375192c172cf4dded274c7578dd1a7370834996a",
        "id": "e1UI7t5IahGa"
      },
      "cell_type": "markdown",
      "source": [
        "**Decision Tree Classifier**"
      ]
    },
    {
      "metadata": {
        "_uuid": "b10022ef69a1992b4000f48ffc06ce1ed6a288f9",
        "id": "cPlRELMEahGa"
      },
      "cell_type": "markdown",
      "source": [
        "first of all i'm going to change the categorical variables to numeric"
      ]
    },
    {
      "metadata": {
        "trusted": true,
        "_uuid": "1777864413fbae371d76a7f9d2085d14efb70165",
        "id": "h1PjgPS3ahGa"
      },
      "cell_type": "code",
      "source": [
        "def change_category_to_number(DailySummaryCat):\n",
        "    if DailySummaryCat=='Partly cloudy throughout the day.':\n",
        "        return 1\n",
        "    elif DailySummaryCat=='Mostly cloudy throughout the day.':\n",
        "        return 2\n",
        "    elif DailySummaryCat=='Foggy in the evening.':\n",
        "        return 3\n",
        "    elif DailySummaryCat=='Foggy overnight and breezy in the morning.':\n",
        "        return 4\n",
        "    elif DailySummaryCat=='Overcast throughout the day.':\n",
        "        return 5\n",
        "    elif DailySummaryCat=='Partly cloudy until night.':\n",
        "        return 6\n",
        "    elif DailySummaryCat=='Motly cloudy until night.':\n",
        "        return 7\n",
        "    elif DailySummaryCat=='Foggy starting overnight continuing until morning.':\n",
        "        return 8\n",
        "    elif DailySummaryCat=='Foggy in the morning.':\n",
        "        return 9\n",
        "    elif DailySummaryCat=='Partly cloudy until evening.':\n",
        "        return 10\n",
        "    elif DailySummaryCat=='Partly cloudy starting in the morning.':\n",
        "        return 11\n",
        "    elif DailySummaryCat=='Mostly cloudy starting overnight continuing until night.':\n",
        "        return 12\n",
        "    elif DailySummaryCat=='Partly cloudy starting in the afternoon.':\n",
        "        return 13\n",
        "    elif DailySummaryCat=='Partly cloudy starting overnight.':\n",
        "        return 14\n",
        "    elif DailySummaryCat=='Mostly cloudy starting overnight.':\n",
        "        return 15\n",
        "    elif DailySummaryCat=='Mostly cloudy until night and breezy in the afternoon.':\n",
        "        return 16\n",
        "    elif DailySummaryCat=='Mostly cloudy until evening.':\n",
        "        return 17\n",
        "    elif DailySummaryCat=='Foggy throughout the day.':\n",
        "        return 18\n",
        "    elif DailySummaryCat=='Partly cloudy starting in the morning.':\n",
        "        return 19\n",
        "    elif DailySummaryCat=='Partly cloudy starting in the morning continuing until evening.':\n",
        "        return 20\n",
        "    elif DailySummaryCat=='Foggy until morning.':\n",
        "        return 21\n",
        "    elif DailySummaryCat=='Partly cloudy starting in the morning continuing until night.':\n",
        "        return 22\n",
        "    elif DailySummaryCat=='Mostly cloudy starting in the morning.':\n",
        "        return 23\n",
        "    elif DailySummaryCat=='Foggy starting in the evening.':\n",
        "        return 24\n",
        "    elif DailySummaryCat=='Partly cloudy starting in the afternoon continuing until evening.':\n",
        "        return 25\n",
        "    elif DailySummaryCat=='Foggy overnight.':\n",
        "        return 26\n",
        "    elif DailySummaryCat=='Clear throughout the day.':\n",
        "        return 27\n",
        "    elif DailySummaryCat=='Partly cloudy starting overnight continuing until night.':\n",
        "        return 28\n",
        "    elif DailySummaryCat=='Partly cloudy overnight.':\n",
        "        return 29\n",
        "    elif DailySummaryCat=='Partly cloudy starting overnight continuing until evening.':\n",
        "        return 30\n",
        "    elif DailySummaryCat=='Foggy until night.':\n",
        "        return 31\n",
        "    elif DailySummaryCat=='Partly cloudy in the morning.':\n",
        "        return 32\n",
        "    elif DailySummaryCat=='Foggy starting overnight continuing until afternoon.':\n",
        "        return 33\n",
        "    elif DailySummaryCat=='Foggy until afternoon.':\n",
        "        return 34\n",
        "    elif DailySummaryCat=='Breezy and mostly cloudy overnight.':\n",
        "        return 35\n",
        "    elif DailySummaryCat=='Partly cloudy overnight and breezy starting in the morning continuing until afternoon.':\n",
        "        return 36\n",
        "    elif DailySummaryCat=='Breezy in the morning and foggy in the evening.':\n",
        "        return 37\n",
        "    elif DailySummaryCat=='Mostly cloudy until evening and breezy in the evening.':\n",
        "        return 38\n",
        "    elif DailySummaryCat=='Mostly cloudy starting in the evening.':\n",
        "        return 39\n",
        "    elif DailySummaryCat=='Mostly cloudy throughout the day and breezy starting overnight continuing until afternoon.':\n",
        "        return 40\n",
        "    elif DailySummaryCat=='Breezy starting in the morning continuing until night.':\n",
        "        return 41\n",
        "    elif DailySummaryCat=='Overcast throughout the day and breezy starting overnight continuing until morning.':\n",
        "        return 42\n",
        "    elif DailySummaryCat=='Breezy starting overnight continuing until morning and foggy in the evening.':\n",
        "        return 43\n",
        "    elif DailySummaryCat=='Light rain until morning.':\n",
        "        return 44\n",
        "    elif DailySummaryCat=='Mostly cloudy until night and breezy starting in the afternoon continuing until night.':\n",
        "        return 45\n",
        "    elif DailySummaryCat=='Mostly cloudy starting in the morning continuing until afternoon.':\n",
        "        return 46\n",
        "    elif DailySummaryCat=='Breezy until afternoon and overcast throughout the day.':\n",
        "        return 47\n",
        "    elif DailySummaryCat=='Partly cloudy until evening and breezy in the afternoon.':\n",
        "        return 48\n",
        "    elif DailySummaryCat=='Breezy starting overnight continuing until morning and partly cloudy starting overnight continuing until evening.':\n",
        "        return 49\n",
        "    elif DailySummaryCat=='Light rain starting overnight.':\n",
        "        return 50\n",
        "    elif DailySummaryCat=='Partly cloudy starting overnight continuing until evening and breezy starting in the morning continuing until evening.':\n",
        "        return 51\n",
        "    elif DailySummaryCat=='Foggy starting in the morning continuing until evening and breezy in the evening.':\n",
        "        return 52\n",
        "    elif DailySummaryCat=='Partly cloudy throughout the day and breezy in the afternoon.':\n",
        "        return 53\n",
        "    elif DailySummaryCat=='Mostly cloudy starting overnight continuing until evening and breezy starting overnight continuing until morning.':\n",
        "        return 54\n",
        "    elif DailySummaryCat=='Partly cloudy starting overnight continuing until evening and breezy in the morning.':\n",
        "        return 55\n",
        "    elif DailySummaryCat=='Overcast throughout the day and breezy overnight.':\n",
        "        return 56\n",
        "    elif DailySummaryCat=='Light rain in the morning.':\n",
        "        return 57\n",
        "    elif DailySummaryCat=='Rain until morning.':\n",
        "        return 58\n",
        "    elif DailySummaryCat=='Breezy in the morning and mostly cloudy starting in the evening.':\n",
        "        return 59\n",
        "    elif DailySummaryCat=='Mostly cloudy starting in the morning and breezy overnight.':\n",
        "        return 60\n",
        "    elif DailySummaryCat=='Partly cloudy starting overnight and breezy starting in the morning continuing until afternoon.':\n",
        "        return 61\n",
        "    elif DailySummaryCat=='Partly cloudy starting in the morning and breezy starting in the afternoon continuing until evening.':\n",
        "        return 62\n",
        "    elif DailySummaryCat=='Partly cloudy starting in the morning continuing until evening and breezy in the afternoon.':\n",
        "        return 63\n",
        "    elif DailySummaryCat=='Foggy starting overnight continuing until morning and breezy in the afternoon.':\n",
        "        return 64"
      ],
      "execution_count": null,
      "outputs": []
    },
    {
      "metadata": {
        "trusted": true,
        "_uuid": "3571b4dd0ff140af032f4bc9584d0479e3b2d892",
        "id": "ScPHocAvahGa"
      },
      "cell_type": "code",
      "source": [
        "# assign a numerical value to the categorical field of class, by using the above function\n",
        "data['DailySummaryCat'] = data['Daily Summary'].apply(change_category_to_number)"
      ],
      "execution_count": null,
      "outputs": []
    },
    {
      "metadata": {
        "trusted": true,
        "_uuid": "a13af79a3202518da6abd5bd045780571c0db417",
        "id": "R5lT6WsPahGa"
      },
      "cell_type": "code",
      "source": [
        "data.fillna(method='ffill', inplace=True) "
      ],
      "execution_count": null,
      "outputs": []
    },
    {
      "metadata": {
        "trusted": true,
        "_uuid": "adc42520c0621479d5b75234d8ce50dc428a8abb",
        "id": "vAWyMiX2ahGa"
      },
      "cell_type": "code",
      "source": [
        "plt.figure(figsize=(18,8)) # this creates a figure 8 inch wide, 4 inch high\n",
        "ax = sns.countplot(x=data['DailySummaryCat'])\n",
        "ax.set_xticklabels(ax.get_xticklabels(), rotation=90, ha=\"right\")\n",
        "plt.tight_layout()\n",
        "plt.show()"
      ],
      "execution_count": null,
      "outputs": []
    },
    {
      "metadata": {
        "trusted": true,
        "_uuid": "229518334563600909c0c525d677ea80182f09fe",
        "id": "sqZgWnSiahGa"
      },
      "cell_type": "code",
      "source": [
        "def change_category(Summary):\n",
        "    if Summary=='Partly Cloudy':\n",
        "        return 1\n",
        "    elif Summary=='Mostly Cloudy':\n",
        "        return 2\n",
        "    elif Summary=='Foggy':\n",
        "        return 3\n",
        "    elif Summary=='Clear':\n",
        "        return 4\n",
        "    elif Summary=='Overcast':\n",
        "        return 5\n",
        "    elif Summary=='Breezy and Overcast':\n",
        "        return 6\n",
        "    elif Summary=='Breezy and Partly Cloudy':\n",
        "        return 7\n",
        "    elif Summary=='Breezy and Mostly Cloudy':\n",
        "        return 8\n",
        "    elif Summary=='Dry and Partly Cloudy':\n",
        "        return 9\n",
        "    elif Summary=='Windy and Partly Cloudy':\n",
        "        return 10\n",
        "    elif Summary=='Light Rain':\n",
        "        return 11\n",
        "    elif Summary=='Breezy':\n",
        "        return 12\n",
        "    elif Summary=='Windy and Overcast':\n",
        "        return 13\n",
        "    elif Summary=='Humid and Mostly Cloudy':\n",
        "        return 14\n",
        "    elif Summary=='Drizzle':\n",
        "        return 15\n",
        "    elif Summary=='Windy and Mostly Cloudy':\n",
        "        return 16\n",
        "    elif Summary=='Breezy and Foggy':\n",
        "        return 17\n",
        "    elif Summary=='Dry':\n",
        "        return 18\n",
        "    elif Summary=='Humid and Partly Cloudy':\n",
        "        return 19\n",
        "    elif Summary=='Dry and Mostly Cloudy':\n",
        "        return 20\n",
        "    elif Summary=='Rain':\n",
        "        return 21\n",
        "    elif Summary=='Windy':\n",
        "        return 22\n",
        "    elif Summary=='Humid and Overcast':\n",
        "        return 23\n",
        "    elif Summary=='Windy and Foggy':\n",
        "        return 24\n",
        "    elif Summary=='Dangerously Windy and Partly Cloudy':\n",
        "        return 25\n",
        "    elif Summary=='Windy and Dry':\n",
        "        return 26\n",
        "    elif Summary=='Breezy and Dry':\n",
        "        return 27\n",
        "    "
      ],
      "execution_count": null,
      "outputs": []
    },
    {
      "metadata": {
        "trusted": true,
        "_uuid": "302cd0cbc75543e4668723d8ff61055b012a9fb7",
        "id": "4MKwwNRRahGa"
      },
      "cell_type": "code",
      "source": [
        "# assign a numerical value to the categorical field of class, by using the above function\n",
        "data['SummaryCat'] = data['Summary'].apply(change_category)\n"
      ],
      "execution_count": null,
      "outputs": []
    },
    {
      "metadata": {
        "trusted": true,
        "_uuid": "a3fec17cb35afe93ce58db67dc23f8f63ce089f3",
        "id": "_Z9-KSxZahGa"
      },
      "cell_type": "code",
      "source": [
        "plt.figure(figsize=(18,8)) # this creates a figure 8 inch wide, 4 inch high\n",
        "ax = sns.countplot(x=data['SummaryCat'])\n",
        "ax.set_xticklabels(ax.get_xticklabels(), rotation=90, ha=\"right\")\n",
        "plt.tight_layout()\n",
        "plt.show()"
      ],
      "execution_count": null,
      "outputs": []
    },
    {
      "metadata": {
        "trusted": true,
        "_uuid": "a056e351c927fceb282c8e24b5c8e6bf2be4dcc9",
        "id": "NwmihnRsahGb"
      },
      "cell_type": "code",
      "source": [
        "def change_category(PrecipTypeCat):\n",
        "    if PrecipTypeCat=='rain':\n",
        "        return 1\n",
        "    elif PrecipTypeCat=='snow':\n",
        "        return 2\n",
        "  "
      ],
      "execution_count": null,
      "outputs": []
    },
    {
      "metadata": {
        "trusted": true,
        "_uuid": "40d94d1db9dccd18f0dd3ef9e37eaac25f787491",
        "id": "bwAD7sQMahGb"
      },
      "cell_type": "code",
      "source": [
        "# assign a numerical value to the categorical field of class, by using the above function\n",
        "data['PrecipTypeCat'] = data['Precip Type'].apply(change_category)"
      ],
      "execution_count": null,
      "outputs": []
    },
    {
      "metadata": {
        "trusted": true,
        "_uuid": "fc0d6a26dd0116fb6ae361a2a48b6de55c534595",
        "id": "dMfBpSiZahGb"
      },
      "cell_type": "code",
      "source": [
        "plt.figure(figsize=(18,8)) # this creates a figure 8 inch wide, 4 inch high\n",
        "ax = sns.countplot(x=data['PrecipTypeCat'])\n",
        "ax.set_xticklabels(ax.get_xticklabels(), rotation=90, ha=\"right\")\n",
        "plt.tight_layout()\n",
        "plt.show()"
      ],
      "execution_count": null,
      "outputs": []
    },
    {
      "metadata": {
        "trusted": true,
        "_uuid": "d65b7b0159bb7c74baebe4419d123f28febcf5dd",
        "id": "AvEYAnPYahGb"
      },
      "cell_type": "code",
      "source": [
        "data.drop(['Formatted Date','Summary','Daily Summary','Precip Type','Date'],axis=1,inplace=True)\n",
        "data.head()"
      ],
      "execution_count": null,
      "outputs": []
    },
    {
      "metadata": {
        "trusted": true,
        "_uuid": "6db278ddf5122fdcd4595c72c35fa67917c413ac",
        "id": "r9ArK4SRahGb"
      },
      "cell_type": "code",
      "source": [
        "X = data.drop('DailySummaryCat', axis=1)\n",
        "y = data['DailySummaryCat']"
      ],
      "execution_count": null,
      "outputs": []
    },
    {
      "metadata": {
        "trusted": true,
        "_uuid": "9742c3c2466d572b965b1696b98f63427c627d4c",
        "id": "8wcohteWahGb"
      },
      "cell_type": "code",
      "source": [
        "X_train, X_test, y_train, y_test = train_test_split(X, y, test_size=0.3, random_state=128)"
      ],
      "execution_count": null,
      "outputs": []
    },
    {
      "metadata": {
        "trusted": true,
        "_uuid": "d0929729805f35c2a18bbb89afa37fd007beeb84",
        "id": "KZFT-ZhLahGb"
      },
      "cell_type": "code",
      "source": [
        "dtClassifer = DecisionTreeClassifier(max_leaf_nodes=15,random_state=0)"
      ],
      "execution_count": null,
      "outputs": []
    },
    {
      "metadata": {
        "trusted": true,
        "_uuid": "ecbd76319a6b0d78e426c32b1b8d29f303955f61",
        "id": "ViO5ewIqahGb"
      },
      "cell_type": "code",
      "source": [
        "dtClassifer.fit(X_train, y_train)"
      ],
      "execution_count": null,
      "outputs": []
    },
    {
      "metadata": {
        "trusted": true,
        "_uuid": "f41c7d3753ab1b3bf5bafa4ac1ebc5f2aeadeee6",
        "id": "PbojuELcahGb"
      },
      "cell_type": "code",
      "source": [
        "prediction = dtClassifer.predict(X_test)"
      ],
      "execution_count": null,
      "outputs": []
    },
    {
      "metadata": {
        "trusted": true,
        "_uuid": "b7cfbd8bcf31fa83583e7699d48dd52869b8126d",
        "id": "kNTFWhJ4ahGb"
      },
      "cell_type": "code",
      "source": [
        "prediction[:100]"
      ],
      "execution_count": null,
      "outputs": []
    },
    {
      "metadata": {
        "trusted": true,
        "_uuid": "767b7ef83658ac9ebd0ced49c001e56e7bd29180",
        "id": "3KSMJfhnahGb"
      },
      "cell_type": "code",
      "source": [
        "y_test[:100]"
      ],
      "execution_count": null,
      "outputs": []
    },
    {
      "metadata": {
        "trusted": true,
        "_uuid": "26ced0b46eb757c0b6ddfefb973554136ca5ade6",
        "id": "dVs7Ajc9ahGb"
      },
      "cell_type": "code",
      "source": [
        "accuracy_score(y_true=y_test, y_pred=prediction)"
      ],
      "execution_count": null,
      "outputs": []
    },
    {
      "metadata": {
        "_uuid": "1b5b7e772144be6cfd36dad256c1340687693175",
        "id": "JQPwtcqwahGb"
      },
      "cell_type": "markdown",
      "source": [
        "**Logistic Regression**"
      ]
    },
    {
      "metadata": {
        "trusted": true,
        "_uuid": "55eca754dee076f242e73a95632bb39002661712",
        "id": "3F5KhQiKahGb"
      },
      "cell_type": "code",
      "source": [
        "lrClassifier = LogisticRegression()"
      ],
      "execution_count": null,
      "outputs": []
    },
    {
      "metadata": {
        "trusted": true,
        "_uuid": "72911fb036a07db1627d5f5c6aa7deaa94b6e968",
        "id": "JIrOoAOaahGb"
      },
      "cell_type": "code",
      "source": [
        "lrClassifier.fit(X_train,y_train)"
      ],
      "execution_count": null,
      "outputs": []
    },
    {
      "metadata": {
        "trusted": true,
        "_uuid": "e95c7051bde801898c835029491efbd3600fde7c",
        "id": "j9Anv7b1ahGb"
      },
      "cell_type": "code",
      "source": [
        "prediction = lrClassifier.predict(X_test)"
      ],
      "execution_count": null,
      "outputs": []
    },
    {
      "metadata": {
        "trusted": true,
        "_uuid": "8038268188ac330b66e8e3f51cf7c5411d6401b5",
        "id": "gRkZ3qMKahGb"
      },
      "cell_type": "code",
      "source": [
        "prediction[:3000]"
      ],
      "execution_count": null,
      "outputs": []
    },
    {
      "metadata": {
        "trusted": true,
        "_uuid": "09255005f2361d7ce4b36f95ed6bc2e0beb768aa",
        "id": "3GOQHNp8ahGb"
      },
      "cell_type": "code",
      "source": [
        "y_test[:100]"
      ],
      "execution_count": null,
      "outputs": []
    },
    {
      "metadata": {
        "trusted": true,
        "_uuid": "bc1c28c45dd793880780f7676f66748102bec38a",
        "id": "hGDYEH7PahGb"
      },
      "cell_type": "code",
      "source": [
        "accuracy_score(y_true=y_test, y_pred=prediction)"
      ],
      "execution_count": null,
      "outputs": []
    },
    {
      "metadata": {
        "_uuid": "89c58b5946f58d694af82cadc6ec48c0487b7dc2",
        "id": "Pxwz19NuahGb"
      },
      "cell_type": "markdown",
      "source": [
        "**Visualization. Weather calendar**"
      ]
    },
    {
      "metadata": {
        "trusted": true,
        "_uuid": "585621a780c504a3d51778c39ea6073fff849c6f",
        "id": "9CAtw_keahGb"
      },
      "cell_type": "code",
      "source": [
        "#Drawing a heatmap\n",
        "def facet_heatmap(data, color, **kws):\n",
        "    values=data.columns.values[3]\n",
        "    data = data.pivot(index='day', columns='hour', values=values)\n",
        "    sns.heatmap(data, cmap='coolwarm', **kws)  \n",
        "\n",
        "#Joining heatmaps of every month in a year \n",
        "def weather_calendar(year,weather): #Year= Any year in DataFrame. Weather=Any quantitative variable\n",
        "    datayear = data[data['year']==year][['month', 'day', 'hour', weather]]\n",
        "    vmin=datayear[weather].min()\n",
        "    vmax=datayear[weather].max()\n",
        "    with sns.plotting_context(font_scale=12):\n",
        "        g = sns.FacetGrid(datayear,col=\"month\", col_wrap=3) #One heatmap per month\n",
        "        g = g.map_dataframe(facet_heatmap,vmin=vmin, vmax=vmax)\n",
        "        g.set_axis_labels('Hour', 'Day')\n",
        "        plt.subplots_adjust(top=0.9)\n",
        "        g.fig.suptitle('%s Calendar. Year: %s.' %(weather, year), fontsize=18)"
      ],
      "execution_count": null,
      "outputs": []
    },
    {
      "metadata": {
        "trusted": true,
        "_uuid": "6293fdb9cb1a2fc955cbeb0c88c3fbdbcf727ad0",
        "id": "rOcz1gIGahGb"
      },
      "cell_type": "code",
      "source": [
        "weather_calendar(2006,'Temperature (C)')"
      ],
      "execution_count": null,
      "outputs": []
    },
    {
      "metadata": {
        "trusted": true,
        "_uuid": "5641d436d2afe063d0e0bf7b1edabdeca556b81b",
        "id": "ux2pxj9dahGb"
      },
      "cell_type": "code",
      "source": [
        "weather_calendar(2008,'Humidity')"
      ],
      "execution_count": null,
      "outputs": []
    },
    {
      "metadata": {
        "_uuid": "292e1f5514931a3a18f4e05f18048a3bec3919e1",
        "id": "jvBOWqSYahGb"
      },
      "cell_type": "markdown",
      "source": [
        "**Neural Model for Weather Prediction**"
      ]
    },
    {
      "metadata": {
        "trusted": true,
        "_uuid": "9d290fbde8feeb5deed13c8e505c267ac788f478",
        "id": "Q-8dZxATahGb"
      },
      "cell_type": "code",
      "source": [
        "data_neur=data\n"
      ],
      "execution_count": null,
      "outputs": []
    },
    {
      "metadata": {
        "trusted": true,
        "_uuid": "fbbe6c1d49b3bf78753f7cbef3da420b4859b390",
        "id": "HlX3gFJwahGb"
      },
      "cell_type": "code",
      "source": [
        "data_neur['T'] = data['Temperature (C)']\n",
        "data_neur['TA'] = data['Apparent Temperature (C)']\n",
        "data_neur['H'] = data['Humidity']\n",
        "data_neur['WS'] = data['Wind Speed (km/h)']\n",
        "data_neur['WB'] = data['Wind Bearing (degrees)']\n",
        "data_neur['V'] = data['Visibility (km)']\n",
        "data_neur['P'] = data['Pressure (millibars)']\n",
        "data_neur['Y'] = data['year']\n",
        "data_neur['M'] = data['month']\n",
        "data_neur['D'] = data['day']\n",
        "data_neur['HR'] = data['hour']\n",
        "data_neur['SC'] = data['SummaryCat']\n",
        "data_neur['PT'] = data['PrecipTypeCat']\n",
        "data.drop(['hour','day','month','year','Pressure (millibars)','Temperature (C)','Apparent Temperature (C)','Humidity','Wind Speed (km/h)','Wind Bearing (degrees)','Visibility (km)','SummaryCat','PrecipTypeCat'],axis=1,inplace=True)\n",
        "data_neur.head()"
      ],
      "execution_count": null,
      "outputs": []
    },
    {
      "metadata": {
        "trusted": true,
        "_uuid": "efddf32ccd953439e895c714e64555cf50aca13d",
        "id": "tKQnBHYUahGb"
      },
      "cell_type": "code",
      "source": [
        "# X will be a pandas dataframe of all columns except meantempm\n",
        "X = data_neur[[col for col in data_neur.columns if col != 'DailySummaryCat']]\n",
        "\n",
        "# y will be a pandas series of the meantempm\n",
        "y = data_neur['DailySummaryCat']"
      ],
      "execution_count": null,
      "outputs": []
    },
    {
      "metadata": {
        "trusted": true,
        "_uuid": "19fc8a9bd4b69e3f999edd73b6b8b49e18eb7e86",
        "id": "a2jVx1fuahGc"
      },
      "cell_type": "code",
      "source": [
        "# split data into training set and a temporary set using sklearn.model_selection.traing_test_split\n",
        "X_train, X_tmp, y_train, y_tmp = train_test_split(X, y, test_size=0.2, random_state=23)"
      ],
      "execution_count": null,
      "outputs": []
    },
    {
      "metadata": {
        "trusted": true,
        "_uuid": "3ddd5821a88a02db9690f878787a25dde64befea",
        "id": "8yLp-Za3ahGc"
      },
      "cell_type": "code",
      "source": [
        "# take the remaining 20% of data in X_tmp, y_tmp and split them evenly\n",
        "X_test, X_val, y_test, y_val = train_test_split(X_tmp, y_tmp, test_size=0.5, random_state=23)\n",
        "\n",
        "X_train.shape, X_test.shape, X_val.shape\n",
        "print(\"Training instances   {}, Training features   {}\".format(X_train.shape[0], X_train.shape[1]))\n",
        "print(\"Validation instances {}, Validation features {}\".format(X_val.shape[0], X_val.shape[1]))\n",
        "print(\"Testing instances    {}, Testing features    {}\".format(X_test.shape[0], X_test.shape[1]))"
      ],
      "execution_count": null,
      "outputs": []
    },
    {
      "metadata": {
        "trusted": true,
        "_uuid": "29f519cf233eb87183720ebcc40f4cc64efadc08",
        "id": "5Pi1WF21ahGc"
      },
      "cell_type": "code",
      "source": [
        "feature_cols = [tf.feature_column.numeric_column(col) for col in X.columns]"
      ],
      "execution_count": null,
      "outputs": []
    },
    {
      "metadata": {
        "trusted": true,
        "_uuid": "98cedb17447a7cb89778b6067c0b94edd592a418",
        "id": "-lz0f6pyahGc"
      },
      "cell_type": "code",
      "source": [
        "tf.VERSION #to check it has the latest version over 1.21 if not then install with conda update -f -c conda-forge tensorflow"
      ],
      "execution_count": null,
      "outputs": []
    },
    {
      "metadata": {
        "trusted": true,
        "_uuid": "6f52514e44b6c14c06a55cdcacb4d607da777386",
        "id": "bT7SQIIoahGc"
      },
      "cell_type": "code",
      "source": [
        "regressor = tf.estimator.DNNRegressor(feature_columns=feature_cols,\n",
        "                                      hidden_units=[50, 50],\n",
        "                                      model_dir='tf_wx_model')"
      ],
      "execution_count": null,
      "outputs": []
    },
    {
      "metadata": {
        "trusted": true,
        "_uuid": "f68a66d3b752766a1f89a8e9036dbf37a42e2693",
        "id": "ThU0VegAahGc"
      },
      "cell_type": "code",
      "source": [
        "def wx_input_fn(X, y=None, num_epochs=None, shuffle=True, batch_size=260): # 260 is used as we have approx 570 dataset for training\n",
        "    return tf.estimator.inputs.pandas_input_fn(x=X,\n",
        "                                               y=y,\n",
        "                                               num_epochs=num_epochs,\n",
        "                                               shuffle=shuffle,\n",
        "                                               batch_size=batch_size)"
      ],
      "execution_count": null,
      "outputs": []
    },
    {
      "metadata": {
        "trusted": true,
        "_uuid": "43535321e2cbcc73554a8ccd63be50a2c0f5375a",
        "id": "O_DXVHKgahGc"
      },
      "cell_type": "code",
      "source": [
        "evaluations = []\n",
        "STEPS = 260\n",
        "for i in range(100):\n",
        "    regressor.train(input_fn=wx_input_fn(X_train, y=y_train), steps=STEPS)\n",
        "    evaluation = regressor.evaluate(input_fn=wx_input_fn(X_val, y_val,\n",
        "                                                         num_epochs=1,\n",
        "                                                         shuffle=False),\n",
        "                                    steps=1)\n",
        "    evaluations.append(regressor.evaluate(input_fn=wx_input_fn(X_val,\n",
        "                                                               y_val,\n",
        "                                                               num_epochs=1,\n",
        "                                                               shuffle=False)))"
      ],
      "execution_count": null,
      "outputs": []
    },
    {
      "metadata": {
        "trusted": true,
        "_uuid": "047fc4e7fb944a9ae607c2fa298d9334c9861cf7",
        "id": "4Gh_TwNYahGc"
      },
      "cell_type": "code",
      "source": [
        "evaluations[0]"
      ],
      "execution_count": null,
      "outputs": []
    },
    {
      "metadata": {
        "trusted": true,
        "_uuid": "3dca7c2efcb55275b9c3caa52da9841bee212fe9",
        "id": "prfgCvsuahGc"
      },
      "cell_type": "code",
      "source": [
        "# manually set the parameters of the figure to and appropriate size\n",
        "plt.rcParams['figure.figsize'] = [14, 10]\n",
        "\n",
        "loss_values = [ev['loss'] for ev in evaluations]\n",
        "training_steps = [ev['global_step'] for ev in evaluations]\n",
        "\n",
        "plt.scatter(x=training_steps, y=loss_values)\n",
        "plt.xlabel('Training steps (Epochs = steps / 2)')\n",
        "plt.ylabel('Loss (SSE)')\n",
        "plt.show()"
      ],
      "execution_count": null,
      "outputs": []
    }
  ],
  "metadata": {
    "kernelspec": {
      "display_name": "Python 3",
      "language": "python",
      "name": "python3"
    },
    "language_info": {
      "name": "python",
      "version": "3.6.6",
      "mimetype": "text/x-python",
      "codemirror_mode": {
        "name": "ipython",
        "version": 3
      },
      "pygments_lexer": "ipython3",
      "nbconvert_exporter": "python",
      "file_extension": ".py"
    },
    "colab": {
      "provenance": [],
      "include_colab_link": true
    }
  },
  "nbformat": 4,
  "nbformat_minor": 0
}